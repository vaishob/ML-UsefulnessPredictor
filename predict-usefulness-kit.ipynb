{
 "cells": [
  {
   "cell_type": "markdown",
   "id": "a8a763ed",
   "metadata": {},
   "source": [
    "## Predict the target\n",
    "\n",
    "#### **Problem Statement:**\n",
    "An airline company has launched a new medical kit that a customer can buy during their check-in. After the launch, the company collected data from all the passengers that have bought this kit. They want to analyze the usefulness of this kit.\n",
    "\n",
    "#### **Task:**\n",
    "Your task is to build a model that predicts the usefulness of the medical kit. \n",
    "\n",
    "**Note:** `0` represents that the kit is ***useful*** and `1` represents that the kit is ***not useful***.\n",
    "\n",
    "**Dataset description:** The data folder consists of two **.csv** files, **train.csv** (***6736 x 10***) and **test.csv** (***2164 x 9***).\n",
    "\n",
    "The dataset consists of the following columns:\n",
    "\n",
    "* `ID` -> Represents a unique identification\n",
    "* `Distributor` -> Represents the distributor's code\n",
    "* `Product` -> Represents a product's code\n",
    "* `Duration` -> Represents the time taken to reach a destination\n",
    "* `Destination` -> Represents a destination's code\n",
    "* `Sales` -> Represents a sale price\n",
    "* `Commission` -> Represents a commission charged by the distributor\n",
    "* `Gender` -> Represents the gender of a passenger\n",
    "* `Age` -> Represents the age of a passenger\n",
    "* `Target` -> Represents the target column {**0**:`'Useful'`, **1**:`'Not useful'`}\n",
    "\n",
    "**Evaluation metric:**\n",
    "`score = 100*metrics.f1_score(actual, predicted, average = \"weighted\")`\n",
    "\n",
    "Write a program that generates and writes predictions for the given data from **test.csv** into a .csv file. The Index is `\"ID\"` and the target is the `\"Target\"` column. \n",
    "\n",
    "Ensure that the file contains the correct names of columns as provided in the **sample_submission.csv** file. Ensure that the file contains the correct index values as per the **test.csv** file. The size of the submission file must be ***2164 x 2***."
   ]
  },
  {
   "cell_type": "code",
   "execution_count": 1,
   "id": "5a6dbbef",
   "metadata": {},
   "outputs": [],
   "source": [
    "import pandas as pd\n",
    "from sklearn.model_selection import train_test_split, cross_val_score\n",
    "from sklearn.preprocessing import LabelEncoder\n",
    "from sklearn.ensemble import RandomForestClassifier\n",
    "from sklearn.metrics import f1_score"
   ]
  },
  {
   "cell_type": "markdown",
   "id": "7f2e7077",
   "metadata": {},
   "source": [
    "### Load the datasets"
   ]
  },
  {
   "cell_type": "code",
   "execution_count": 2,
   "id": "ee5d14df",
   "metadata": {},
   "outputs": [],
   "source": [
    "# Load the datasets\n",
    "train_df = pd.read_csv(\"C:\\\\Users\\\\Vaishob\\\\Desktop\\\\data\\\\train.csv\")\n",
    "test_df = pd.read_csv(\"C:\\\\Users\\\\Vaishob\\\\Desktop\\\\data\\\\test.csv\")\n",
    "sample_submission = pd.read_csv(\"C:\\\\Users\\\\Vaishob\\\\Desktop\\\\data\\\\sample_submission.csv\")"
   ]
  },
  {
   "cell_type": "markdown",
   "id": "2f8d6df8",
   "metadata": {},
   "source": [
    "### Initial Exploration"
   ]
  },
  {
   "cell_type": "code",
   "execution_count": 4,
   "id": "95361f8e",
   "metadata": {},
   "outputs": [
    {
     "name": "stdout",
     "output_type": "stream",
     "text": [
      "                         ID  Distributor  Product  Duration  Destination  \\\n",
      "0      fffe3800370038003900            7        1        22          122   \n",
      "1  fffe34003200370037003500            7        1        26           52   \n",
      "2  fffe32003100320030003200            7       10        15           83   \n",
      "3  fffe34003400310037003000            8       25        24           55   \n",
      "4  fffe32003400390038003000            6       16        12          122   \n",
      "\n",
      "   Sales  Commission  Gender  Age  Target  \n",
      "0   31.0        0.00     NaN   20       0  \n",
      "1   22.0        0.00     NaN   36       0  \n",
      "2   63.0        0.00     NaN   34       0  \n",
      "3   62.0       24.80     0.0  118       0  \n",
      "4   19.8       11.88     NaN   26       0  \n"
     ]
    }
   ],
   "source": [
    "# Initial exploration\n",
    "print(train_df.head())"
   ]
  },
  {
   "cell_type": "code",
   "execution_count": 5,
   "id": "ce645034",
   "metadata": {},
   "outputs": [
    {
     "name": "stdout",
     "output_type": "stream",
     "text": [
      "<class 'pandas.core.frame.DataFrame'>\n",
      "RangeIndex: 6736 entries, 0 to 6735\n",
      "Data columns (total 10 columns):\n",
      " #   Column       Non-Null Count  Dtype  \n",
      "---  ------       --------------  -----  \n",
      " 0   ID           6736 non-null   object \n",
      " 1   Distributor  6736 non-null   int64  \n",
      " 2   Product      6736 non-null   int64  \n",
      " 3   Duration     6736 non-null   int64  \n",
      " 4   Destination  6736 non-null   int64  \n",
      " 5   Sales        6736 non-null   float64\n",
      " 6   Commission   6736 non-null   float64\n",
      " 7   Gender       2032 non-null   float64\n",
      " 8   Age          6736 non-null   int64  \n",
      " 9   Target       6736 non-null   int64  \n",
      "dtypes: float64(3), int64(6), object(1)\n",
      "memory usage: 526.4+ KB\n",
      "None\n"
     ]
    }
   ],
   "source": [
    "print(train_df.info())"
   ]
  },
  {
   "cell_type": "markdown",
   "id": "6dd4f68f",
   "metadata": {},
   "source": [
    "### Preprocessing\n",
    "* Separate numeric & non-numeric columns\n",
    "* Remove 'Target' from numeric columns since it's not in the test set\n",
    "* For numeric columns, fill missing values with median\n",
    "* For non-numeric columns, fill missing values with mode "
   ]
  },
  {
   "cell_type": "code",
   "execution_count": 10,
   "id": "c5051033",
   "metadata": {},
   "outputs": [],
   "source": [
    "# Preprocessing\n",
    "\n",
    "# Separate numeric and non-numeric columns\n",
    "numeric_cols = train_df.select_dtypes(include=['number']).columns\n",
    "non_numeric_cols = train_df.select_dtypes(exclude=['number']).columns\n",
    "\n",
    "# Remove 'Target' from numeric columns since it's not in the test set\n",
    "numeric_cols = numeric_cols.drop('Target')\n",
    "\n",
    "# Fill missing values for numeric columns with the median\n",
    "train_df[numeric_cols] = train_df[numeric_cols].fillna(train_df[numeric_cols].median())\n",
    "test_df[numeric_cols] = test_df[numeric_cols].fillna(test_df[numeric_cols].median())\n",
    "\n",
    "# Fill missing values for non-numeric columsn with the mode\n",
    "train_df[non_numeric_cols] = train_df[non_numeric_cols].fillna(train_df[non_numeric_cols].mode().iloc[0])\n",
    "test_df[non_numeric_cols] = test_df[non_numeric_cols].fillna(train_df[non_numeric_cols].mode().iloc[0])"
   ]
  },
  {
   "cell_type": "code",
   "execution_count": 11,
   "id": "1e12ec31",
   "metadata": {},
   "outputs": [],
   "source": [
    "# Handle categorical features with LabelEncoder\n",
    "label_encoders = {}\n",
    "for column in ['Distributor', 'Product', 'Destination', 'Gender']:\n",
    "    le = LabelEncoder()\n",
    "    train_df[column] = le.fit_transform(train_df[column])\n",
    "    test_df[column] = test_df[column].map(lambda s: -1 if s not in le.classes_ else le.transform([s])[0])\n",
    "    label_encoders[column] = le"
   ]
  },
  {
   "cell_type": "markdown",
   "id": "44720fe4",
   "metadata": {},
   "source": [
    "### Model Training\n",
    "* Separate features and target\n",
    "* Train-test split for model evaluation\n",
    "* Model Training\n",
    "* Evaluate using validation set\n",
    "* Train on full dataset and predict on test set"
   ]
  },
  {
   "cell_type": "code",
   "execution_count": 12,
   "id": "946ab5fd",
   "metadata": {},
   "outputs": [
    {
     "name": "stdout",
     "output_type": "stream",
     "text": [
      "Validation F1 Score: 0.928110934104848\n"
     ]
    }
   ],
   "source": [
    "# Separate featuers and target\n",
    "X = train_df.drop(columns=['ID', 'Target'])\n",
    "y = train_df['Target']\n",
    "X_test = test_df.drop(columns=['ID'])\n",
    "\n",
    "# Train-test split for model evalutaion\n",
    "X_train, X_val, y_train, y_val = train_test_split(X, y, test_size=0.2, random_state=42)\n",
    "\n",
    "# Model trainign\n",
    "model = RandomForestClassifier(random_state=42)\n",
    "model.fit(X_train, y_train)\n",
    "\n",
    "# Evalueate on validation set\n",
    "val_predictions = model.predict(X_val)\n",
    "f1 = f1_score(y_val, val_predictions, average='weighted')\n",
    "print(f\"Validation F1 Score: {f1}\")\n",
    "\n",
    "# Train on the full dataset and predict on test set\n",
    "model.fit(X, y)\n",
    "test_predictions = model.predict(X_test)\n",
    "\n",
    "# Prepare the submission file\n",
    "submission = pd.DataFrame({\n",
    "    'ID': test_df['ID'],\n",
    "    'Target': test_predictions\n",
    "})\n",
    "\n",
    "# Save the submisison file\n",
    "submission.to_csv(\"C:\\\\Users\\\\Vaishob\\\\Desktop\\\\data\\\\submission.csv\", index=False)"
   ]
  },
  {
   "cell_type": "code",
   "execution_count": null,
   "id": "4226830e",
   "metadata": {},
   "outputs": [],
   "source": []
  }
 ],
 "metadata": {
  "kernelspec": {
   "display_name": "Python 3 (ipykernel)",
   "language": "python",
   "name": "python3"
  },
  "language_info": {
   "codemirror_mode": {
    "name": "ipython",
    "version": 3
   },
   "file_extension": ".py",
   "mimetype": "text/x-python",
   "name": "python",
   "nbconvert_exporter": "python",
   "pygments_lexer": "ipython3",
   "version": "3.11.7"
  }
 },
 "nbformat": 4,
 "nbformat_minor": 5
}
